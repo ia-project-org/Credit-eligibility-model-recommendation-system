{
 "cells": [
  {
   "cell_type": "code",
   "execution_count": 1,
   "metadata": {},
   "outputs": [],
   "source": [
    "# Data manipulation and analysis\n",
    "import pandas as pd\n",
    "import numpy as np\n",
    "import re\n",
    "\n",
    "# Data visualization\n",
    "import seaborn as sns\n",
    "import matplotlib.pyplot as plt\n",
    "# from ydata_profiling import ProfileReport\n",
    "import scipy.stats as stats \n",
    "from scipy.stats import mode\n",
    "\n",
    "# Suppress warnings\n",
    "import warnings \n",
    "warnings.filterwarnings(\"ignore\")\n",
    "\n",
    "# Preprocessing\n",
    "from sklearn.preprocessing import LabelEncoder, OneHotEncoder, StandardScaler\n",
    "from sklearn.compose import ColumnTransformer\n",
    "from imblearn.over_sampling import SMOTE\n",
    "from imblearn.under_sampling import RandomUnderSampler\n",
    "from sklearn.decomposition import PCA\n",
    "\n",
    "# Model selection and evaluation\n",
    "from sklearn.model_selection import train_test_split, GridSearchCV, cross_val_score,RandomizedSearchCV\n",
    "from sklearn.metrics import classification_report, ConfusionMatrixDisplay, confusion_matrix, roc_auc_score, precision_score, recall_score, f1_score, roc_curve, accuracy_score, auc, precision_recall_curve, average_precision_score\n",
    "\n",
    "# Machine learning models\n",
    "from sklearn.tree import DecisionTreeRegressor, DecisionTreeClassifier\n",
    "from sklearn.ensemble import RandomForestClassifier, BaggingClassifier\n",
    "import xgboost as xgb\n",
    "import lightgbm as lgb\n",
    "\n",
    "# Visualization of feature importances\n",
    "from yellowbrick.model_selection import FeatureImportances"
   ]
  },
  {
   "cell_type": "code",
   "execution_count": 2,
   "metadata": {},
   "outputs": [],
   "source": [
    "pd.set_option('display.max_columns', None)\n",
    "pd.set_option('display.max_rows', None)\n",
    "pd.set_option('float_format', '{:f}'.format)"
   ]
  },
  {
   "cell_type": "code",
   "execution_count": 3,
   "metadata": {},
   "outputs": [
    {
     "name": "stdout",
     "output_type": "stream",
     "text": [
      "This dataset has 100000 rows dan 11 columns.\n",
      "\n"
     ]
    },
    {
     "data": {
      "text/html": [
       "<div>\n",
       "<style scoped>\n",
       "    .dataframe tbody tr th:only-of-type {\n",
       "        vertical-align: middle;\n",
       "    }\n",
       "\n",
       "    .dataframe tbody tr th {\n",
       "        vertical-align: top;\n",
       "    }\n",
       "\n",
       "    .dataframe thead th {\n",
       "        text-align: right;\n",
       "    }\n",
       "</style>\n",
       "<table border=\"1\" class=\"dataframe\">\n",
       "  <thead>\n",
       "    <tr style=\"text-align: right;\">\n",
       "      <th></th>\n",
       "      <th>Outstanding_Debt</th>\n",
       "      <th>Interest_Rate</th>\n",
       "      <th>Delay_from_due_date</th>\n",
       "      <th>Monthly_Inhand_Salary</th>\n",
       "      <th>Num_Credit_Inquiries</th>\n",
       "      <th>Credit_History_Age</th>\n",
       "      <th>Changed_Credit_Limit</th>\n",
       "      <th>Num_of_Delayed_Payment</th>\n",
       "      <th>Type_of_Loan</th>\n",
       "      <th>Total_EMI_per_month</th>\n",
       "      <th>Credit_Score</th>\n",
       "    </tr>\n",
       "  </thead>\n",
       "  <tbody>\n",
       "    <tr>\n",
       "      <th>0</th>\n",
       "      <td>809.980000</td>\n",
       "      <td>3.000000</td>\n",
       "      <td>3.000000</td>\n",
       "      <td>1824.843333</td>\n",
       "      <td>4.000000</td>\n",
       "      <td>265.000000</td>\n",
       "      <td>11.270000</td>\n",
       "      <td>7.000000</td>\n",
       "      <td>135</td>\n",
       "      <td>49.574949</td>\n",
       "      <td>0</td>\n",
       "    </tr>\n",
       "    <tr>\n",
       "      <th>1</th>\n",
       "      <td>809.980000</td>\n",
       "      <td>3.000000</td>\n",
       "      <td>3.000000</td>\n",
       "      <td>1584.788750</td>\n",
       "      <td>4.000000</td>\n",
       "      <td>265.000000</td>\n",
       "      <td>11.270000</td>\n",
       "      <td>5.000000</td>\n",
       "      <td>135</td>\n",
       "      <td>49.574949</td>\n",
       "      <td>0</td>\n",
       "    </tr>\n",
       "    <tr>\n",
       "      <th>2</th>\n",
       "      <td>809.980000</td>\n",
       "      <td>3.000000</td>\n",
       "      <td>3.000000</td>\n",
       "      <td>1583.388333</td>\n",
       "      <td>4.000000</td>\n",
       "      <td>267.000000</td>\n",
       "      <td>9.270000</td>\n",
       "      <td>7.000000</td>\n",
       "      <td>135</td>\n",
       "      <td>49.574949</td>\n",
       "      <td>0</td>\n",
       "    </tr>\n",
       "    <tr>\n",
       "      <th>3</th>\n",
       "      <td>809.980000</td>\n",
       "      <td>3.000000</td>\n",
       "      <td>5.000000</td>\n",
       "      <td>1569.508750</td>\n",
       "      <td>4.000000</td>\n",
       "      <td>268.000000</td>\n",
       "      <td>6.270000</td>\n",
       "      <td>4.000000</td>\n",
       "      <td>135</td>\n",
       "      <td>49.574949</td>\n",
       "      <td>0</td>\n",
       "    </tr>\n",
       "    <tr>\n",
       "      <th>4</th>\n",
       "      <td>809.980000</td>\n",
       "      <td>3.000000</td>\n",
       "      <td>6.000000</td>\n",
       "      <td>1824.843333</td>\n",
       "      <td>4.000000</td>\n",
       "      <td>269.000000</td>\n",
       "      <td>11.270000</td>\n",
       "      <td>0.000000</td>\n",
       "      <td>135</td>\n",
       "      <td>49.574949</td>\n",
       "      <td>0</td>\n",
       "    </tr>\n",
       "  </tbody>\n",
       "</table>\n",
       "</div>"
      ],
      "text/plain": [
       "   Outstanding_Debt  Interest_Rate  Delay_from_due_date  \\\n",
       "0        809.980000       3.000000             3.000000   \n",
       "1        809.980000       3.000000             3.000000   \n",
       "2        809.980000       3.000000             3.000000   \n",
       "3        809.980000       3.000000             5.000000   \n",
       "4        809.980000       3.000000             6.000000   \n",
       "\n",
       "   Monthly_Inhand_Salary  Num_Credit_Inquiries  Credit_History_Age  \\\n",
       "0            1824.843333              4.000000          265.000000   \n",
       "1            1584.788750              4.000000          265.000000   \n",
       "2            1583.388333              4.000000          267.000000   \n",
       "3            1569.508750              4.000000          268.000000   \n",
       "4            1824.843333              4.000000          269.000000   \n",
       "\n",
       "   Changed_Credit_Limit  Num_of_Delayed_Payment  Type_of_Loan  \\\n",
       "0             11.270000                7.000000           135   \n",
       "1             11.270000                5.000000           135   \n",
       "2              9.270000                7.000000           135   \n",
       "3              6.270000                4.000000           135   \n",
       "4             11.270000                0.000000           135   \n",
       "\n",
       "   Total_EMI_per_month  Credit_Score  \n",
       "0            49.574949             0  \n",
       "1            49.574949             0  \n",
       "2            49.574949             0  \n",
       "3            49.574949             0  \n",
       "4            49.574949             0  "
      ]
     },
     "execution_count": 3,
     "metadata": {},
     "output_type": "execute_result"
    }
   ],
   "source": [
    "df = pd.read_csv('../data/datasets_inter/train_features.csv')\n",
    "print('This dataset has %d rows dan %d columns.\\n' % df.shape)\n",
    "df.head()"
   ]
  },
  {
   "cell_type": "code",
   "execution_count": 4,
   "metadata": {},
   "outputs": [],
   "source": [
    "X = df.drop(columns=['Credit_Score'])\n",
    "y = df['Credit_Score']"
   ]
  },
  {
   "cell_type": "code",
   "execution_count": 5,
   "metadata": {},
   "outputs": [],
   "source": [
    "smote = SMOTE(sampling_strategy='auto', random_state=42)\n",
    "X_res, y_res = smote.fit_resample(X, y)"
   ]
  },
  {
   "cell_type": "code",
   "execution_count": 6,
   "metadata": {},
   "outputs": [
    {
     "name": "stdout",
     "output_type": "stream",
     "text": [
      "Credit_Score\n",
      "0    71002\n",
      "1    71002\n",
      "Name: count, dtype: int64\n"
     ]
    }
   ],
   "source": [
    "print(y_res.value_counts())"
   ]
  },
  {
   "cell_type": "code",
   "execution_count": 7,
   "metadata": {},
   "outputs": [],
   "source": [
    "X_train, X_val, y_train, y_val = train_test_split(X_res, y_res, test_size=0.2, random_state=42)"
   ]
  },
  {
   "cell_type": "code",
   "execution_count": 8,
   "metadata": {},
   "outputs": [],
   "source": [
    "scaler = StandardScaler()\n",
    "X_train_scaled = scaler.fit_transform(X_train)\n",
    "X_val_scaled = scaler.transform(X_val)"
   ]
  },
  {
   "cell_type": "code",
   "execution_count": 9,
   "metadata": {},
   "outputs": [],
   "source": [
    "# scale_pos_weight = len(y_train) / (2 * sum(y_train)) "
   ]
  },
  {
   "cell_type": "code",
   "execution_count": 10,
   "metadata": {},
   "outputs": [],
   "source": [
    "xgb_model = xgb.XGBClassifier(\n",
    "    eval_metric='mlogloss', \n",
    "    tree_method='hist', \n",
    "    gpu_id=0\n",
    ")\n",
    "xgb_model.fit(X_train_scaled, y_train)\n",
    "y_pred_xgb = xgb_model.predict(X_val_scaled)"
   ]
  },
  {
   "cell_type": "code",
   "execution_count": 11,
   "metadata": {},
   "outputs": [
    {
     "name": "stdout",
     "output_type": "stream",
     "text": [
      "Accuracy: 0.8863\n",
      "Precision: 0.8825\n",
      "Recall: 0.8907\n",
      "F1-Score: 0.8866\n",
      "ROC AUC (XGBoost): 0.9447\n",
      "Confusion Matrix:\n",
      "[[12550  1680]\n",
      " [ 1549 12622]]\n",
      "Classification Report:\n",
      "              precision    recall  f1-score   support\n",
      "\n",
      "           0       0.89      0.88      0.89     14230\n",
      "           1       0.88      0.89      0.89     14171\n",
      "\n",
      "    accuracy                           0.89     28401\n",
      "   macro avg       0.89      0.89      0.89     28401\n",
      "weighted avg       0.89      0.89      0.89     28401\n",
      "\n"
     ]
    },
    {
     "data": {
      "image/png": "[encoded data removed]",
      "text/plain": [
       "<Figure size 800x600 with 2 Axes>"
      ]
     },
     "metadata": {},
     "output_type": "display_data"
    }
   ],
   "source": [
    "accuracy = accuracy_score(y_val, y_pred_xgb)\n",
    "print(f\"Accuracy: {accuracy:.4f}\")\n",
    "\n",
    "# Precision\n",
    "precision = precision_score(y_val, y_pred_xgb, average='binary')  # Use 'micro', 'macro', or 'weighted' for multi-class\n",
    "print(f\"Precision: {precision:.4f}\")\n",
    "\n",
    "# Recall\n",
    "recall = recall_score(y_val, y_pred_xgb, average='binary')  # Use 'micro', 'macro', or 'weighted' for multi-class\n",
    "print(f\"Recall: {recall:.4f}\")\n",
    "\n",
    "# F1-Score\n",
    "f1 = f1_score(y_val, y_pred_xgb, average='binary')  # Use 'micro', 'macro', or 'weighted' for multi-class\n",
    "print(f\"F1-Score: {f1:.4f}\")\n",
    "\n",
    "if len(np.unique(y_val)) == 2:\n",
    "    y_pred_proba_xgb = xgb_model.predict_proba(X_val_scaled)[:, 1]\n",
    "    roc_auc = roc_auc_score(y_val, y_pred_proba_xgb)\n",
    "    print(f\"ROC AUC (XGBoost): {roc_auc:.4f}\")\n",
    "else:\n",
    "    roc_auc = roc_auc_score(y_val, xgb_model.predict_proba(X_val_scaled), multi_class='ovr', average='macro')\n",
    "    print(f\"ROC AUC (Multi-Class - XGBoost): {roc_auc:.4f}\")\n",
    "\n",
    "# Confusion Matrix\n",
    "conf_matrix = confusion_matrix(y_val, y_pred_xgb)\n",
    "print(\"Confusion Matrix:\")\n",
    "print(conf_matrix)\n",
    "\n",
    "# Classification Report\n",
    "class_report = classification_report(y_val, y_pred_xgb)\n",
    "print(\"Classification Report:\")\n",
    "print(class_report)\n",
    "\n",
    "# Plot Confusion Matrix\n",
    "plt.figure(figsize=(8, 6))\n",
    "sns.heatmap(conf_matrix, annot=True, fmt='d', cmap='Blues', xticklabels=np.unique(y_val), yticklabels=np.unique(y_val))\n",
    "plt.title('Confusion Matrix')\n",
    "plt.xlabel('Predicted Label')\n",
    "plt.ylabel('True Label')\n",
    "plt.show()"
   ]
  },
  {
   "cell_type": "code",
   "execution_count": 12,
   "metadata": {},
   "outputs": [
    {
     "name": "stdout",
     "output_type": "stream",
     "text": [
      "[LightGBM] [Info] Number of positive: 56831, number of negative: 56772\n",
      "[LightGBM] [Info] Auto-choosing col-wise multi-threading, the overhead of testing was 0.002429 seconds.\n",
      "You can set `force_col_wise=true` to remove the overhead.\n",
      "[LightGBM] [Info] Total Bins 2550\n",
      "[LightGBM] [Info] Number of data points in the train set: 113603, number of used features: 10\n",
      "[LightGBM] [Info] [binary:BoostFromScore]: pavg=0.500260 -> initscore=0.001039\n",
      "[LightGBM] [Info] Start training from score 0.001039\n"
     ]
    }
   ],
   "source": [
    "lgb_model = lgb.LGBMClassifier()  \n",
    "lgb_model.fit(X_train_scaled, y_train)\n",
    "y_pred_lgb = lgb_model.predict(X_val_scaled)"
   ]
  },
  {
   "cell_type": "code",
   "execution_count": 13,
   "metadata": {},
   "outputs": [
    {
     "name": "stdout",
     "output_type": "stream",
     "text": [
      "Accuracy: 0.8580\n",
      "Precision: 0.8536\n",
      "Recall: 0.8634\n",
      "F1-Score: 0.8585\n",
      "ROC AUC (LightGBM): 0.9245\n",
      "Confusion Matrix:\n",
      "[[12132  2098]\n",
      " [ 1936 12235]]\n",
      "Classification Report:\n",
      "              precision    recall  f1-score   support\n",
      "\n",
      "           0       0.86      0.85      0.86     14230\n",
      "           1       0.85      0.86      0.86     14171\n",
      "\n",
      "    accuracy                           0.86     28401\n",
      "   macro avg       0.86      0.86      0.86     28401\n",
      "weighted avg       0.86      0.86      0.86     28401\n",
      "\n"
     ]
    },
    {
     "data": {
      "image/png": "[encoded data removed]",
      "text/plain": [
       "<Figure size 800x600 with 2 Axes>"
      ]
     },
     "metadata": {},
     "output_type": "display_data"
    }
   ],
   "source": [
    "accuracy = accuracy_score(y_val, y_pred_lgb)\n",
    "print(f\"Accuracy: {accuracy:.4f}\")\n",
    "\n",
    "# Precision\n",
    "precision = precision_score(y_val, y_pred_lgb, average='binary')  # Use 'micro', 'macro', or 'weighted' for multi-class\n",
    "print(f\"Precision: {precision:.4f}\")\n",
    "\n",
    "# Recall\n",
    "recall = recall_score(y_val, y_pred_lgb, average='binary')  # Use 'micro', 'macro', or 'weighted' for multi-class\n",
    "print(f\"Recall: {recall:.4f}\")\n",
    "\n",
    "# F1-Score\n",
    "f1 = f1_score(y_val, y_pred_lgb, average='binary')  # Use 'micro', 'macro', or 'weighted' for multi-class\n",
    "print(f\"F1-Score: {f1:.4f}\")\n",
    "\n",
    "# ROC AUC for binary classification\n",
    "if len(np.unique(y_val)) == 2:\n",
    "    y_pred_proba_lgb = lgb_model.predict_proba(X_val_scaled)[:, 1]\n",
    "    roc_auc = roc_auc_score(y_val, y_pred_proba_lgb)\n",
    "    print(f\"ROC AUC (LightGBM): {roc_auc:.4f}\")\n",
    "else:\n",
    "    roc_auc = roc_auc_score(y_val, lgb_model.predict_proba(X_val_scaled), multi_class='ovr', average='macro')\n",
    "    print(f\"ROC AUC (Multi-Class - LightGBM): {roc_auc:.4f}\")\n",
    "\n",
    "# Confusion Matrix\n",
    "conf_matrix = confusion_matrix(y_val, y_pred_lgb)\n",
    "print(\"Confusion Matrix:\")\n",
    "print(conf_matrix)\n",
    "\n",
    "# Classification Report\n",
    "class_report = classification_report(y_val, y_pred_lgb)\n",
    "print(\"Classification Report:\")\n",
    "print(class_report)\n",
    "\n",
    "# Plot Confusion Matrix (Optional)\n",
    "plt.figure(figsize=(8, 6))\n",
    "sns.heatmap(conf_matrix, annot=True, fmt='d', cmap='Blues', xticklabels=np.unique(y_val), yticklabels=np.unique(y_val))\n",
    "plt.title('Confusion Matrix')\n",
    "plt.xlabel('Predicted Label')\n",
    "plt.ylabel('True Label')\n",
    "plt.show()"
   ]
  },
  {
   "cell_type": "code",
   "execution_count": 14,
   "metadata": {},
   "outputs": [],
   "source": [
    "param_grid = {\n",
    "    'num_leaves': [31, 63, 127],\n",
    "    'max_depth': [5, 7, 9],\n",
    "    'learning_rate': [0.01, 0.05, 0.1],\n",
    "    'n_estimators': [50, 100, 200],\n",
    "    'subsample': [0.6, 0.8, 1.0],\n",
    "    'colsample_bytree': [0.6, 0.8, 1.0],\n",
    "}\n",
    "\n",
    "grid_search = GridSearchCV(estimator=lgb.LGBMClassifier(), param_grid=param_grid, cv=3, n_jobs=-1, verbose=2)\n",
    "grid_search.fit(X_train, y_train)\n",
    "best_lgb_model = grid_search.best_estimator_"
   ]
  },
  {
   "cell_type": "code",
   "execution_count": 15,
   "metadata": {},
   "outputs": [],
   "source": [
    "param_grid = {\n",
    "    'learning_rate': np.logspace(-4, 0, 5), \n",
    "    'n_estimators': [100, 200, 300, 400], \n",
    "    'max_depth': [3, 5, 7, 10], \n",
    "    'subsample': [0.6, 0.8, 1.0],  \n",
    "    'colsample_bytree': [0.6, 0.8, 1.0], \n",
    "    'gamma': [0, 0.1, 0.2, 0.3],  \n",
    "    'reg_alpha': [0, 0.1, 1, 10],  \n",
    "    'reg_lambda': [0.1, 1, 10]  \n",
    "}\n",
    "\n",
    "xgb_model = xgb.XGBClassifier(\n",
    "    tree_method='gpu_hist', \n",
    "    gpu_id=0,  \n",
    "    use_label_encoder=False  \n",
    ")\n",
    "\n",
    "grid_search = GridSearchCV(\n",
    "    xgb_model, param_grid, cv=3, n_jobs=-1, verbose=1, scoring='accuracy'\n",
    ")\n",
    "\n",
    "grid_search.fit(X_train_scaled, y_train, eval_set=[(X_val_scaled, y_val)], verbose=True)\n",
    "\n",
    "print(f\"Best Hyperparameters: {grid_search.best_params_}\")\n",
    "\n",
    "y_pred = grid_search.best_estimator_.predict(X_val_scaled)\n",
    "\n",
    "accuracy = accuracy_score(y_val, y_pred)\n",
    "conf_matrix = confusion_matrix(y_val, y_pred)\n",
    "classification_rep = classification_report(y_val, y_pred)\n",
    "\n",
    "print(f\"Accuracy: {accuracy:.4f}\")\n",
    "print(f\"Confusion Matrix: \\n{conf_matrix}\")\n",
    "print(f\"Classification Report: \\n{classification_rep}\")"
   ]
  },
  {
   "cell_type": "code",
   "execution_count": null,
   "metadata": {},
   "outputs": [],
   "source": []
  }
 ],
 "metadata": {
  "kernelspec": {
   "display_name": "Python 3",
   "language": "python",
   "name": "python3"
  },
  "language_info": {
   "codemirror_mode": {
    "name": "ipython",
    "version": 3
   },
   "file_extension": ".py",
   "mimetype": "text/x-python",
   "name": "python",
   "nbconvert_exporter": "python",
   "pygments_lexer": "ipython3",
   "version": "3.9.6"
  }
 },
 "nbformat": 4,
 "nbformat_minor": 2
}
